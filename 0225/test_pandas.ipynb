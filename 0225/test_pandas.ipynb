{
 "cells": [
  {
   "cell_type": "code",
   "execution_count": 1,
   "outputs": [
    {
     "data": {
      "text/plain": "'1.3.5'"
     },
     "execution_count": 1,
     "metadata": {},
     "output_type": "execute_result"
    }
   ],
   "source": [
    "import pandas as pd\n",
    "import os\n",
    "from datetime import datetime\n",
    "\n",
    "pd.set_option('display.max_columns', None)\n",
    "pd.set_option('display.max_rows', None)\n",
    "pd.__version__"
   ],
   "metadata": {
    "collapsed": false,
    "ExecuteTime": {
     "end_time": "2024-02-24T05:01:18.982222400Z",
     "start_time": "2024-02-24T05:01:18.523927500Z"
    }
   }
  },
  {
   "cell_type": "code",
   "execution_count": 3,
   "metadata": {
    "pycharm": {
     "name": "#%%\n",
     "is_executing": true
    },
    "ExecuteTime": {
     "end_time": "2024-02-24T05:01:19.100817100Z",
     "start_time": "2024-02-24T05:01:19.012836300Z"
    }
   },
   "outputs": [
    {
     "data": {
      "text/plain": "  shot_code      geo_type  cam_transform_x  cam_transform_y  cam_transform_z  \\\n0   AAA_001       pighead        -2.704300         2.505810         4.062120   \n1   BBB_001  templatebody         0.207684         3.173310        -2.522760   \n2   CCC_001  templatehead         0.400994         0.650936         0.834343   \n3   DDD_001       pighead        -2.704300         2.505810         4.062120   \n4   EEE_001  templatebody         0.207684         3.173310        -2.522760   \n5   FFF_001  templatehead         0.400994         0.650936         0.834343   \n\n   cam_rotation_x  cam_rotation_y  cam_rotation_z project  status      task  \\\n0        -30.4744        -38.8465       -0.000003     R&D  assign  electric   \n1        -40.0752        174.1180       -0.000006     R&D     wip  electric   \n2        -28.4560         28.4740       -0.000007     R&D  retake  electric   \n3        -30.4744        -38.8465       -0.000003     R&D    done     ocean   \n4        -40.0752        174.1180       -0.000006     R&D     hld      fire   \n5        -28.4560         28.4740       -0.000007     R&D     omt     smoke   \n\n  shot_status                          user  start_date    due_date  \n0      assign  {'id': 111, 'name': 'simon'}  2024-02-24  2024-03-20  \n1         wip  {'id': 111, 'name': 'simon'}  2024-02-22  2024-03-12  \n2      retake  {'id': 111, 'name': 'simon'}  2024-02-20  2024-03-01  \n3        done  {'id': 444, 'name': 'mendy'}         NaN         NaN  \n4         dir  {'id': 555, 'name': 'silva'}  2024-04-07  2024-05-07  \n5         omt   {'id': 666, 'name': 'luka'}  2024-11-11  2024-12-24  ",
      "text/html": "<div>\n<style scoped>\n    .dataframe tbody tr th:only-of-type {\n        vertical-align: middle;\n    }\n\n    .dataframe tbody tr th {\n        vertical-align: top;\n    }\n\n    .dataframe thead th {\n        text-align: right;\n    }\n</style>\n<table border=\"1\" class=\"dataframe\">\n  <thead>\n    <tr style=\"text-align: right;\">\n      <th></th>\n      <th>shot_code</th>\n      <th>geo_type</th>\n      <th>cam_transform_x</th>\n      <th>cam_transform_y</th>\n      <th>cam_transform_z</th>\n      <th>cam_rotation_x</th>\n      <th>cam_rotation_y</th>\n      <th>cam_rotation_z</th>\n      <th>project</th>\n      <th>status</th>\n      <th>task</th>\n      <th>shot_status</th>\n      <th>user</th>\n      <th>start_date</th>\n      <th>due_date</th>\n    </tr>\n  </thead>\n  <tbody>\n    <tr>\n      <th>0</th>\n      <td>AAA_001</td>\n      <td>pighead</td>\n      <td>-2.704300</td>\n      <td>2.505810</td>\n      <td>4.062120</td>\n      <td>-30.4744</td>\n      <td>-38.8465</td>\n      <td>-0.000003</td>\n      <td>R&amp;D</td>\n      <td>assign</td>\n      <td>electric</td>\n      <td>assign</td>\n      <td>{'id': 111, 'name': 'simon'}</td>\n      <td>2024-02-24</td>\n      <td>2024-03-20</td>\n    </tr>\n    <tr>\n      <th>1</th>\n      <td>BBB_001</td>\n      <td>templatebody</td>\n      <td>0.207684</td>\n      <td>3.173310</td>\n      <td>-2.522760</td>\n      <td>-40.0752</td>\n      <td>174.1180</td>\n      <td>-0.000006</td>\n      <td>R&amp;D</td>\n      <td>wip</td>\n      <td>electric</td>\n      <td>wip</td>\n      <td>{'id': 111, 'name': 'simon'}</td>\n      <td>2024-02-22</td>\n      <td>2024-03-12</td>\n    </tr>\n    <tr>\n      <th>2</th>\n      <td>CCC_001</td>\n      <td>templatehead</td>\n      <td>0.400994</td>\n      <td>0.650936</td>\n      <td>0.834343</td>\n      <td>-28.4560</td>\n      <td>28.4740</td>\n      <td>-0.000007</td>\n      <td>R&amp;D</td>\n      <td>retake</td>\n      <td>electric</td>\n      <td>retake</td>\n      <td>{'id': 111, 'name': 'simon'}</td>\n      <td>2024-02-20</td>\n      <td>2024-03-01</td>\n    </tr>\n    <tr>\n      <th>3</th>\n      <td>DDD_001</td>\n      <td>pighead</td>\n      <td>-2.704300</td>\n      <td>2.505810</td>\n      <td>4.062120</td>\n      <td>-30.4744</td>\n      <td>-38.8465</td>\n      <td>-0.000003</td>\n      <td>R&amp;D</td>\n      <td>done</td>\n      <td>ocean</td>\n      <td>done</td>\n      <td>{'id': 444, 'name': 'mendy'}</td>\n      <td>NaN</td>\n      <td>NaN</td>\n    </tr>\n    <tr>\n      <th>4</th>\n      <td>EEE_001</td>\n      <td>templatebody</td>\n      <td>0.207684</td>\n      <td>3.173310</td>\n      <td>-2.522760</td>\n      <td>-40.0752</td>\n      <td>174.1180</td>\n      <td>-0.000006</td>\n      <td>R&amp;D</td>\n      <td>hld</td>\n      <td>fire</td>\n      <td>dir</td>\n      <td>{'id': 555, 'name': 'silva'}</td>\n      <td>2024-04-07</td>\n      <td>2024-05-07</td>\n    </tr>\n    <tr>\n      <th>5</th>\n      <td>FFF_001</td>\n      <td>templatehead</td>\n      <td>0.400994</td>\n      <td>0.650936</td>\n      <td>0.834343</td>\n      <td>-28.4560</td>\n      <td>28.4740</td>\n      <td>-0.000007</td>\n      <td>R&amp;D</td>\n      <td>omt</td>\n      <td>smoke</td>\n      <td>omt</td>\n      <td>{'id': 666, 'name': 'luka'}</td>\n      <td>2024-11-11</td>\n      <td>2024-12-24</td>\n    </tr>\n  </tbody>\n</table>\n</div>"
     },
     "execution_count": 2,
     "metadata": {},
     "output_type": "execute_result"
    },
    {
     "data": {
      "text/plain": "  shot_code      geo_type  cam_transform_x  cam_transform_y  cam_transform_z  \\\n0   AAA_001       pighead        -2.704300         2.505810         4.062120   \n1   BBB_001  templatebody         0.207684         3.173310        -2.522760   \n2   CCC_001  templatehead         0.400994         0.650936         0.834343   \n3   DDD_001       pighead        -2.704300         2.505810         4.062120   \n4   EEE_001  templatebody         0.207684         3.173310        -2.522760   \n5   FFF_001  templatehead         0.400994         0.650936         0.834343   \n\n   cam_rotation_x  cam_rotation_y  cam_rotation_z project  status      task  \\\n0        -30.4744        -38.8465       -0.000003     R&D  assign  electric   \n1        -40.0752        174.1180       -0.000006     R&D     wip  electric   \n2        -28.4560         28.4740       -0.000007     R&D  retake  electric   \n3        -30.4744        -38.8465       -0.000003     R&D    done     ocean   \n4        -40.0752        174.1180       -0.000006     R&D     hld      fire   \n5        -28.4560         28.4740       -0.000007     R&D     omt     smoke   \n\n  shot_status                          user  start_date    due_date  \n0      assign  {'id': 111, 'name': 'simon'}  2024-02-24  2024-03-20  \n1         wip  {'id': 111, 'name': 'simon'}  2024-02-22  2024-03-12  \n2      retake  {'id': 111, 'name': 'simon'}  2024-02-20  2024-03-01  \n3        done  {'id': 444, 'name': 'mendy'}         NaN         NaN  \n4         dir  {'id': 555, 'name': 'silva'}  2024-04-07  2024-05-07  \n5         omt   {'id': 666, 'name': 'luka'}  2024-11-11  2024-12-24  ",
      "text/html": "<div>\n<style scoped>\n    .dataframe tbody tr th:only-of-type {\n        vertical-align: middle;\n    }\n\n    .dataframe tbody tr th {\n        vertical-align: top;\n    }\n\n    .dataframe thead th {\n        text-align: right;\n    }\n</style>\n<table border=\"1\" class=\"dataframe\">\n  <thead>\n    <tr style=\"text-align: right;\">\n      <th></th>\n      <th>shot_code</th>\n      <th>geo_type</th>\n      <th>cam_transform_x</th>\n      <th>cam_transform_y</th>\n      <th>cam_transform_z</th>\n      <th>cam_rotation_x</th>\n      <th>cam_rotation_y</th>\n      <th>cam_rotation_z</th>\n      <th>project</th>\n      <th>status</th>\n      <th>task</th>\n      <th>shot_status</th>\n      <th>user</th>\n      <th>start_date</th>\n      <th>due_date</th>\n    </tr>\n  </thead>\n  <tbody>\n    <tr>\n      <th>0</th>\n      <td>AAA_001</td>\n      <td>pighead</td>\n      <td>-2.704300</td>\n      <td>2.505810</td>\n      <td>4.062120</td>\n      <td>-30.4744</td>\n      <td>-38.8465</td>\n      <td>-0.000003</td>\n      <td>R&amp;D</td>\n      <td>assign</td>\n      <td>electric</td>\n      <td>assign</td>\n      <td>{'id': 111, 'name': 'simon'}</td>\n      <td>2024-02-24</td>\n      <td>2024-03-20</td>\n    </tr>\n    <tr>\n      <th>1</th>\n      <td>BBB_001</td>\n      <td>templatebody</td>\n      <td>0.207684</td>\n      <td>3.173310</td>\n      <td>-2.522760</td>\n      <td>-40.0752</td>\n      <td>174.1180</td>\n      <td>-0.000006</td>\n      <td>R&amp;D</td>\n      <td>wip</td>\n      <td>electric</td>\n      <td>wip</td>\n      <td>{'id': 111, 'name': 'simon'}</td>\n      <td>2024-02-22</td>\n      <td>2024-03-12</td>\n    </tr>\n    <tr>\n      <th>2</th>\n      <td>CCC_001</td>\n      <td>templatehead</td>\n      <td>0.400994</td>\n      <td>0.650936</td>\n      <td>0.834343</td>\n      <td>-28.4560</td>\n      <td>28.4740</td>\n      <td>-0.000007</td>\n      <td>R&amp;D</td>\n      <td>retake</td>\n      <td>electric</td>\n      <td>retake</td>\n      <td>{'id': 111, 'name': 'simon'}</td>\n      <td>2024-02-20</td>\n      <td>2024-03-01</td>\n    </tr>\n    <tr>\n      <th>3</th>\n      <td>DDD_001</td>\n      <td>pighead</td>\n      <td>-2.704300</td>\n      <td>2.505810</td>\n      <td>4.062120</td>\n      <td>-30.4744</td>\n      <td>-38.8465</td>\n      <td>-0.000003</td>\n      <td>R&amp;D</td>\n      <td>done</td>\n      <td>ocean</td>\n      <td>done</td>\n      <td>{'id': 444, 'name': 'mendy'}</td>\n      <td>NaN</td>\n      <td>NaN</td>\n    </tr>\n    <tr>\n      <th>4</th>\n      <td>EEE_001</td>\n      <td>templatebody</td>\n      <td>0.207684</td>\n      <td>3.173310</td>\n      <td>-2.522760</td>\n      <td>-40.0752</td>\n      <td>174.1180</td>\n      <td>-0.000006</td>\n      <td>R&amp;D</td>\n      <td>hld</td>\n      <td>fire</td>\n      <td>dir</td>\n      <td>{'id': 555, 'name': 'silva'}</td>\n      <td>2024-04-07</td>\n      <td>2024-05-07</td>\n    </tr>\n    <tr>\n      <th>5</th>\n      <td>FFF_001</td>\n      <td>templatehead</td>\n      <td>0.400994</td>\n      <td>0.650936</td>\n      <td>0.834343</td>\n      <td>-28.4560</td>\n      <td>28.4740</td>\n      <td>-0.000007</td>\n      <td>R&amp;D</td>\n      <td>omt</td>\n      <td>smoke</td>\n      <td>omt</td>\n      <td>{'id': 666, 'name': 'luka'}</td>\n      <td>2024-11-11</td>\n      <td>2024-12-24</td>\n    </tr>\n  </tbody>\n</table>\n</div>"
     },
     "execution_count": 3,
     "metadata": {},
     "output_type": "execute_result"
    }
   ],
   "source": [
    "str_none_date = \"1111-11-11\"\n",
    "\n",
    "df_sg = pd.read_csv(\"sg_fx_info.csv\")\n",
    "df_sg"
   ]
  },
  {
   "cell_type": "code",
   "execution_count": 20,
   "outputs": [
    {
     "data": {
      "text/plain": "'R&D'"
     },
     "execution_count": 20,
     "metadata": {},
     "output_type": "execute_result"
    }
   ],
   "source": [],
   "metadata": {
    "collapsed": false,
    "ExecuteTime": {
     "end_time": "2024-02-24T06:15:36.175917500Z",
     "start_time": "2024-02-24T06:15:36.145000600Z"
    }
   }
  },
  {
   "cell_type": "code",
   "execution_count": 239,
   "outputs": [
    {
     "data": {
      "text/plain": "  shot_code      geo_type  cam_transform_x  cam_transform_y  cam_transform_z  \\\n0   AAA_001       pighead        -2.704300         2.505810         4.062120   \n1   BBB_001  templatebody         0.207684         3.173310        -2.522760   \n2   CCC_001  templatehead         0.400994         0.650936         0.834343   \n3   DDD_001       pighead        -2.704300         2.505810         4.062120   \n4   EEE_001  templatebody         0.207684         3.173310        -2.522760   \n5   FFF_001  templatehead         0.400994         0.650936         0.834343   \n\n   cam_rotation_x  cam_rotation_y  cam_rotation_z project  status      task  \\\n0        -30.4744        -38.8465       -0.000003     R&D  assign  electric   \n1        -40.0752        174.1180       -0.000006     R&D     wip  electric   \n2        -28.4560         28.4740       -0.000007     R&D  retake  electric   \n3        -30.4744        -38.8465       -0.000003     R&D    done     ocean   \n4        -40.0752        174.1180       -0.000006     R&D     hld      fire   \n5        -28.4560         28.4740       -0.000007     R&D     omt     smoke   \n\n  shot_status                          user  start_date    due_date  \n0      assign  {'id': 111, 'name': 'simon'}  2024-02-24  2024-03-20  \n1         wip  {'id': 111, 'name': 'simon'}  2024-02-22  2024-03-12  \n2      retake  {'id': 111, 'name': 'simon'}  2024-02-20  2024-03-01  \n3        done  {'id': 444, 'name': 'mendy'}  1111-11-11  1111-11-11  \n4         dir  {'id': 555, 'name': 'silva'}  2024-04-07  2024-05-07  \n5         omt   {'id': 666, 'name': 'luka'}  2024-11-11  2024-12-24  ",
      "text/html": "<div>\n<style scoped>\n    .dataframe tbody tr th:only-of-type {\n        vertical-align: middle;\n    }\n\n    .dataframe tbody tr th {\n        vertical-align: top;\n    }\n\n    .dataframe thead th {\n        text-align: right;\n    }\n</style>\n<table border=\"1\" class=\"dataframe\">\n  <thead>\n    <tr style=\"text-align: right;\">\n      <th></th>\n      <th>shot_code</th>\n      <th>geo_type</th>\n      <th>cam_transform_x</th>\n      <th>cam_transform_y</th>\n      <th>cam_transform_z</th>\n      <th>cam_rotation_x</th>\n      <th>cam_rotation_y</th>\n      <th>cam_rotation_z</th>\n      <th>project</th>\n      <th>status</th>\n      <th>task</th>\n      <th>shot_status</th>\n      <th>user</th>\n      <th>start_date</th>\n      <th>due_date</th>\n    </tr>\n  </thead>\n  <tbody>\n    <tr>\n      <th>0</th>\n      <td>AAA_001</td>\n      <td>pighead</td>\n      <td>-2.704300</td>\n      <td>2.505810</td>\n      <td>4.062120</td>\n      <td>-30.4744</td>\n      <td>-38.8465</td>\n      <td>-0.000003</td>\n      <td>R&amp;D</td>\n      <td>assign</td>\n      <td>electric</td>\n      <td>assign</td>\n      <td>{'id': 111, 'name': 'simon'}</td>\n      <td>2024-02-24</td>\n      <td>2024-03-20</td>\n    </tr>\n    <tr>\n      <th>1</th>\n      <td>BBB_001</td>\n      <td>templatebody</td>\n      <td>0.207684</td>\n      <td>3.173310</td>\n      <td>-2.522760</td>\n      <td>-40.0752</td>\n      <td>174.1180</td>\n      <td>-0.000006</td>\n      <td>R&amp;D</td>\n      <td>wip</td>\n      <td>electric</td>\n      <td>wip</td>\n      <td>{'id': 111, 'name': 'simon'}</td>\n      <td>2024-02-22</td>\n      <td>2024-03-12</td>\n    </tr>\n    <tr>\n      <th>2</th>\n      <td>CCC_001</td>\n      <td>templatehead</td>\n      <td>0.400994</td>\n      <td>0.650936</td>\n      <td>0.834343</td>\n      <td>-28.4560</td>\n      <td>28.4740</td>\n      <td>-0.000007</td>\n      <td>R&amp;D</td>\n      <td>retake</td>\n      <td>electric</td>\n      <td>retake</td>\n      <td>{'id': 111, 'name': 'simon'}</td>\n      <td>2024-02-20</td>\n      <td>2024-03-01</td>\n    </tr>\n    <tr>\n      <th>3</th>\n      <td>DDD_001</td>\n      <td>pighead</td>\n      <td>-2.704300</td>\n      <td>2.505810</td>\n      <td>4.062120</td>\n      <td>-30.4744</td>\n      <td>-38.8465</td>\n      <td>-0.000003</td>\n      <td>R&amp;D</td>\n      <td>done</td>\n      <td>ocean</td>\n      <td>done</td>\n      <td>{'id': 444, 'name': 'mendy'}</td>\n      <td>1111-11-11</td>\n      <td>1111-11-11</td>\n    </tr>\n    <tr>\n      <th>4</th>\n      <td>EEE_001</td>\n      <td>templatebody</td>\n      <td>0.207684</td>\n      <td>3.173310</td>\n      <td>-2.522760</td>\n      <td>-40.0752</td>\n      <td>174.1180</td>\n      <td>-0.000006</td>\n      <td>R&amp;D</td>\n      <td>hld</td>\n      <td>fire</td>\n      <td>dir</td>\n      <td>{'id': 555, 'name': 'silva'}</td>\n      <td>2024-04-07</td>\n      <td>2024-05-07</td>\n    </tr>\n    <tr>\n      <th>5</th>\n      <td>FFF_001</td>\n      <td>templatehead</td>\n      <td>0.400994</td>\n      <td>0.650936</td>\n      <td>0.834343</td>\n      <td>-28.4560</td>\n      <td>28.4740</td>\n      <td>-0.000007</td>\n      <td>R&amp;D</td>\n      <td>omt</td>\n      <td>smoke</td>\n      <td>omt</td>\n      <td>{'id': 666, 'name': 'luka'}</td>\n      <td>2024-11-11</td>\n      <td>2024-12-24</td>\n    </tr>\n  </tbody>\n</table>\n</div>"
     },
     "execution_count": 239,
     "metadata": {},
     "output_type": "execute_result"
    }
   ],
   "source": [
    "        # self.df_sg.start_date = self.df_sg.start_date.fillna(str_none_date) # change none date\n",
    "        # self.df_sg.due_date = self.df_sg.due_date.fillna(str_none_date) # change none date\n",
    "\n",
    "df_sg[\"start_date\"].fillna(str_none_date, inplace=True)\n",
    "df_sg[\"due_date\"].fillna(str_none_date ,inplace=True) # change none date\n",
    "df_sg"
   ],
   "metadata": {
    "collapsed": false,
    "ExecuteTime": {
     "end_time": "2024-02-23T07:59:33.472481800Z",
     "start_time": "2024-02-23T07:59:33.201210Z"
    }
   }
  },
  {
   "cell_type": "code",
   "execution_count": 240,
   "outputs": [],
   "source": [
    "def redefine_date(str_date):\n",
    "    dt_date = datetime.strptime(str(str_date), \"%Y-%m-%d\")\n",
    "    return dt_date\n",
    "\n",
    "def redefine_past_start_date(start_date):\n",
    "    dt_start_date = redefine_date(start_date)\n",
    "    if dt_start_date.date() < datetime.now().date():\n",
    "        return True\n",
    "    else:\n",
    "        return False"
   ],
   "metadata": {
    "collapsed": false,
    "ExecuteTime": {
     "end_time": "2024-02-23T07:59:33.473480500Z",
     "start_time": "2024-02-23T07:59:33.246088900Z"
    }
   }
  },
  {
   "cell_type": "code",
   "execution_count": 241,
   "outputs": [
    {
     "data": {
      "text/plain": "  shot_code      geo_type  cam_transform_x  cam_transform_y  cam_transform_z  \\\n0   AAA_001       pighead        -2.704300         2.505810         4.062120   \n1   BBB_001  templatebody         0.207684         3.173310        -2.522760   \n2   CCC_001  templatehead         0.400994         0.650936         0.834343   \n3   DDD_001       pighead        -2.704300         2.505810         4.062120   \n4   EEE_001  templatebody         0.207684         3.173310        -2.522760   \n5   FFF_001  templatehead         0.400994         0.650936         0.834343   \n\n   cam_rotation_x  cam_rotation_y  cam_rotation_z project  status      task  \\\n0        -30.4744        -38.8465       -0.000003     R&D  assign  electric   \n1        -40.0752        174.1180       -0.000006     R&D     wip  electric   \n2        -28.4560         28.4740       -0.000007     R&D  retake  electric   \n3        -30.4744        -38.8465       -0.000003     R&D    done     ocean   \n4        -40.0752        174.1180       -0.000006     R&D     hld      fire   \n5        -28.4560         28.4740       -0.000007     R&D     omt     smoke   \n\n  shot_status                          user  start_date    due_date  \n0      assign  {'id': 111, 'name': 'simon'}  2024-02-24  2024-03-20  \n1         wip  {'id': 111, 'name': 'simon'}  2024-02-22  2024-03-12  \n2      retake  {'id': 111, 'name': 'simon'}  2024-02-20  2024-03-01  \n3        done  {'id': 444, 'name': 'mendy'}  1111-11-11  1111-11-11  \n4         dir  {'id': 555, 'name': 'silva'}  2024-04-07  2024-05-07  \n5         omt   {'id': 666, 'name': 'luka'}  2024-11-11  2024-12-24  ",
      "text/html": "<div>\n<style scoped>\n    .dataframe tbody tr th:only-of-type {\n        vertical-align: middle;\n    }\n\n    .dataframe tbody tr th {\n        vertical-align: top;\n    }\n\n    .dataframe thead th {\n        text-align: right;\n    }\n</style>\n<table border=\"1\" class=\"dataframe\">\n  <thead>\n    <tr style=\"text-align: right;\">\n      <th></th>\n      <th>shot_code</th>\n      <th>geo_type</th>\n      <th>cam_transform_x</th>\n      <th>cam_transform_y</th>\n      <th>cam_transform_z</th>\n      <th>cam_rotation_x</th>\n      <th>cam_rotation_y</th>\n      <th>cam_rotation_z</th>\n      <th>project</th>\n      <th>status</th>\n      <th>task</th>\n      <th>shot_status</th>\n      <th>user</th>\n      <th>start_date</th>\n      <th>due_date</th>\n    </tr>\n  </thead>\n  <tbody>\n    <tr>\n      <th>0</th>\n      <td>AAA_001</td>\n      <td>pighead</td>\n      <td>-2.704300</td>\n      <td>2.505810</td>\n      <td>4.062120</td>\n      <td>-30.4744</td>\n      <td>-38.8465</td>\n      <td>-0.000003</td>\n      <td>R&amp;D</td>\n      <td>assign</td>\n      <td>electric</td>\n      <td>assign</td>\n      <td>{'id': 111, 'name': 'simon'}</td>\n      <td>2024-02-24</td>\n      <td>2024-03-20</td>\n    </tr>\n    <tr>\n      <th>1</th>\n      <td>BBB_001</td>\n      <td>templatebody</td>\n      <td>0.207684</td>\n      <td>3.173310</td>\n      <td>-2.522760</td>\n      <td>-40.0752</td>\n      <td>174.1180</td>\n      <td>-0.000006</td>\n      <td>R&amp;D</td>\n      <td>wip</td>\n      <td>electric</td>\n      <td>wip</td>\n      <td>{'id': 111, 'name': 'simon'}</td>\n      <td>2024-02-22</td>\n      <td>2024-03-12</td>\n    </tr>\n    <tr>\n      <th>2</th>\n      <td>CCC_001</td>\n      <td>templatehead</td>\n      <td>0.400994</td>\n      <td>0.650936</td>\n      <td>0.834343</td>\n      <td>-28.4560</td>\n      <td>28.4740</td>\n      <td>-0.000007</td>\n      <td>R&amp;D</td>\n      <td>retake</td>\n      <td>electric</td>\n      <td>retake</td>\n      <td>{'id': 111, 'name': 'simon'}</td>\n      <td>2024-02-20</td>\n      <td>2024-03-01</td>\n    </tr>\n    <tr>\n      <th>3</th>\n      <td>DDD_001</td>\n      <td>pighead</td>\n      <td>-2.704300</td>\n      <td>2.505810</td>\n      <td>4.062120</td>\n      <td>-30.4744</td>\n      <td>-38.8465</td>\n      <td>-0.000003</td>\n      <td>R&amp;D</td>\n      <td>done</td>\n      <td>ocean</td>\n      <td>done</td>\n      <td>{'id': 444, 'name': 'mendy'}</td>\n      <td>1111-11-11</td>\n      <td>1111-11-11</td>\n    </tr>\n    <tr>\n      <th>4</th>\n      <td>EEE_001</td>\n      <td>templatebody</td>\n      <td>0.207684</td>\n      <td>3.173310</td>\n      <td>-2.522760</td>\n      <td>-40.0752</td>\n      <td>174.1180</td>\n      <td>-0.000006</td>\n      <td>R&amp;D</td>\n      <td>hld</td>\n      <td>fire</td>\n      <td>dir</td>\n      <td>{'id': 555, 'name': 'silva'}</td>\n      <td>2024-04-07</td>\n      <td>2024-05-07</td>\n    </tr>\n    <tr>\n      <th>5</th>\n      <td>FFF_001</td>\n      <td>templatehead</td>\n      <td>0.400994</td>\n      <td>0.650936</td>\n      <td>0.834343</td>\n      <td>-28.4560</td>\n      <td>28.4740</td>\n      <td>-0.000007</td>\n      <td>R&amp;D</td>\n      <td>omt</td>\n      <td>smoke</td>\n      <td>omt</td>\n      <td>{'id': 666, 'name': 'luka'}</td>\n      <td>2024-11-11</td>\n      <td>2024-12-24</td>\n    </tr>\n  </tbody>\n</table>\n</div>"
     },
     "execution_count": 241,
     "metadata": {},
     "output_type": "execute_result"
    }
   ],
   "source": [
    "df_sg"
   ],
   "metadata": {
    "collapsed": false,
    "ExecuteTime": {
     "end_time": "2024-02-23T07:59:33.496417300Z",
     "start_time": "2024-02-23T07:59:33.281994700Z"
    }
   }
  },
  {
   "cell_type": "code",
   "outputs": [
    {
     "data": {
      "text/plain": "  shot_code      geo_type  cam_transform_x  cam_transform_y  cam_transform_z  \\\n4   EEE_001  templatebody         0.207684         3.173310        -2.522760   \n5   FFF_001  templatehead         0.400994         0.650936         0.834343   \n\n   cam_rotation_x  cam_rotation_y  cam_rotation_z project status   task  \\\n4        -40.0752         174.118       -0.000006     R&D    hld   fire   \n5        -28.4560          28.474       -0.000007     R&D    omt  smoke   \n\n  shot_status                          user  start_date    due_date  \n4         dir  {'id': 555, 'name': 'silva'}  2024-04-07  2024-05-07  \n5         omt   {'id': 666, 'name': 'luka'}  2024-11-11  2024-12-24  ",
      "text/html": "<div>\n<style scoped>\n    .dataframe tbody tr th:only-of-type {\n        vertical-align: middle;\n    }\n\n    .dataframe tbody tr th {\n        vertical-align: top;\n    }\n\n    .dataframe thead th {\n        text-align: right;\n    }\n</style>\n<table border=\"1\" class=\"dataframe\">\n  <thead>\n    <tr style=\"text-align: right;\">\n      <th></th>\n      <th>shot_code</th>\n      <th>geo_type</th>\n      <th>cam_transform_x</th>\n      <th>cam_transform_y</th>\n      <th>cam_transform_z</th>\n      <th>cam_rotation_x</th>\n      <th>cam_rotation_y</th>\n      <th>cam_rotation_z</th>\n      <th>project</th>\n      <th>status</th>\n      <th>task</th>\n      <th>shot_status</th>\n      <th>user</th>\n      <th>start_date</th>\n      <th>due_date</th>\n    </tr>\n  </thead>\n  <tbody>\n    <tr>\n      <th>4</th>\n      <td>EEE_001</td>\n      <td>templatebody</td>\n      <td>0.207684</td>\n      <td>3.173310</td>\n      <td>-2.522760</td>\n      <td>-40.0752</td>\n      <td>174.118</td>\n      <td>-0.000006</td>\n      <td>R&amp;D</td>\n      <td>hld</td>\n      <td>fire</td>\n      <td>dir</td>\n      <td>{'id': 555, 'name': 'silva'}</td>\n      <td>2024-04-07</td>\n      <td>2024-05-07</td>\n    </tr>\n    <tr>\n      <th>5</th>\n      <td>FFF_001</td>\n      <td>templatehead</td>\n      <td>0.400994</td>\n      <td>0.650936</td>\n      <td>0.834343</td>\n      <td>-28.4560</td>\n      <td>28.474</td>\n      <td>-0.000007</td>\n      <td>R&amp;D</td>\n      <td>omt</td>\n      <td>smoke</td>\n      <td>omt</td>\n      <td>{'id': 666, 'name': 'luka'}</td>\n      <td>2024-11-11</td>\n      <td>2024-12-24</td>\n    </tr>\n  </tbody>\n</table>\n</div>"
     },
     "execution_count": 242,
     "metadata": {},
     "output_type": "execute_result"
    }
   ],
   "source": [
    "df_sg.head(2)\n",
    "df_sg.tail(2)"
   ],
   "metadata": {
    "collapsed": false,
    "ExecuteTime": {
     "end_time": "2024-02-23T07:59:33.497414800Z",
     "start_time": "2024-02-23T07:59:33.322889500Z"
    }
   },
   "execution_count": 242
  },
  {
   "cell_type": "code",
   "execution_count": 243,
   "outputs": [
    {
     "data": {
      "text/plain": "  shot_code project  status      task shot_status\n0   AAA_001     R&D  assign  electric      assign\n1   BBB_001     R&D     wip  electric         wip\n2   CCC_001     R&D  retake  electric      retake\n3   DDD_001     R&D    done     ocean        done\n4   EEE_001     R&D     hld      fire         dir\n5   FFF_001     R&D     omt     smoke         omt",
      "text/html": "<div>\n<style scoped>\n    .dataframe tbody tr th:only-of-type {\n        vertical-align: middle;\n    }\n\n    .dataframe tbody tr th {\n        vertical-align: top;\n    }\n\n    .dataframe thead th {\n        text-align: right;\n    }\n</style>\n<table border=\"1\" class=\"dataframe\">\n  <thead>\n    <tr style=\"text-align: right;\">\n      <th></th>\n      <th>shot_code</th>\n      <th>project</th>\n      <th>status</th>\n      <th>task</th>\n      <th>shot_status</th>\n    </tr>\n  </thead>\n  <tbody>\n    <tr>\n      <th>0</th>\n      <td>AAA_001</td>\n      <td>R&amp;D</td>\n      <td>assign</td>\n      <td>electric</td>\n      <td>assign</td>\n    </tr>\n    <tr>\n      <th>1</th>\n      <td>BBB_001</td>\n      <td>R&amp;D</td>\n      <td>wip</td>\n      <td>electric</td>\n      <td>wip</td>\n    </tr>\n    <tr>\n      <th>2</th>\n      <td>CCC_001</td>\n      <td>R&amp;D</td>\n      <td>retake</td>\n      <td>electric</td>\n      <td>retake</td>\n    </tr>\n    <tr>\n      <th>3</th>\n      <td>DDD_001</td>\n      <td>R&amp;D</td>\n      <td>done</td>\n      <td>ocean</td>\n      <td>done</td>\n    </tr>\n    <tr>\n      <th>4</th>\n      <td>EEE_001</td>\n      <td>R&amp;D</td>\n      <td>hld</td>\n      <td>fire</td>\n      <td>dir</td>\n    </tr>\n    <tr>\n      <th>5</th>\n      <td>FFF_001</td>\n      <td>R&amp;D</td>\n      <td>omt</td>\n      <td>smoke</td>\n      <td>omt</td>\n    </tr>\n  </tbody>\n</table>\n</div>"
     },
     "execution_count": 243,
     "metadata": {},
     "output_type": "execute_result"
    }
   ],
   "source": [
    "df_sg[[\"shot_code\", \"project\", \"status\", \"task\", \"shot_status\"]]"
   ],
   "metadata": {
    "collapsed": false,
    "pycharm": {
     "name": "#%%\n"
    },
    "ExecuteTime": {
     "end_time": "2024-02-23T07:59:33.497414800Z",
     "start_time": "2024-02-23T07:59:33.366765400Z"
    }
   }
  },
  {
   "cell_type": "code",
   "execution_count": 244,
   "outputs": [
    {
     "data": {
      "text/plain": "['electric', 'fire', 'ocean', 'smoke']"
     },
     "execution_count": 244,
     "metadata": {},
     "output_type": "execute_result"
    }
   ],
   "source": [
    "sorted(df_sg[\"task\"].drop_duplicates().to_list())"
   ],
   "metadata": {
    "collapsed": false,
    "pycharm": {
     "name": "#%%\n"
    },
    "ExecuteTime": {
     "end_time": "2024-02-23T07:59:33.499409900Z",
     "start_time": "2024-02-23T07:59:33.399677800Z"
    }
   }
  },
  {
   "cell_type": "code",
   "execution_count": 245,
   "outputs": [],
   "source": [
    "list_works = []\n"
   ],
   "metadata": {
    "collapsed": false,
    "ExecuteTime": {
     "end_time": "2024-02-23T07:59:33.499409900Z",
     "start_time": "2024-02-23T07:59:33.429599800Z"
    }
   }
  },
  {
   "cell_type": "code",
   "execution_count": 246,
   "outputs": [
    {
     "data": {
      "text/plain": "{'shot_code': 'AAA_001',\n 'geo_type': 'pighead',\n 'cam_transform_x': -2.7043,\n 'cam_transform_y': 2.50581,\n 'cam_transform_z': 4.06212,\n 'cam_rotation_x': -30.4744,\n 'cam_rotation_y': -38.8465,\n 'cam_rotation_z': -3.05957e-06,\n 'project': 'R&D',\n 'status': 'assign',\n 'task': 'electric',\n 'shot_status': 'assign',\n 'user': \"{'id': 111, 'name': 'simon'}\",\n 'start_date': '2024-02-24',\n 'due_date': '2024-03-20'}"
     },
     "execution_count": 246,
     "metadata": {},
     "output_type": "execute_result"
    }
   ],
   "source": [
    "df_sg[(df_sg[\"shot_code\"] == \"AAA_001\")]\n",
    "list_works.extend(df_sg[(df_sg[\"shot_code\"] == \"AAA_001\")].to_dict(\"records\"))\n",
    "list_works[0]"
   ],
   "metadata": {
    "collapsed": false,
    "ExecuteTime": {
     "end_time": "2024-02-23T07:59:33.500408Z",
     "start_time": "2024-02-23T07:59:33.448545Z"
    }
   }
  },
  {
   "cell_type": "code",
   "execution_count": 247,
   "outputs": [
    {
     "data": {
      "text/plain": "  shot_code      geo_type  cam_transform_x  cam_transform_y  cam_transform_z  \\\n1   BBB_001  templatebody         0.207684          3.17331         -2.52276   \n4   EEE_001  templatebody         0.207684          3.17331         -2.52276   \n\n   cam_rotation_x  cam_rotation_y  cam_rotation_z project status      task  \\\n1        -40.0752         174.118       -0.000006     R&D    wip  electric   \n4        -40.0752         174.118       -0.000006     R&D    hld      fire   \n\n  shot_status                          user  start_date    due_date  \n1         wip  {'id': 111, 'name': 'simon'}  2024-02-22  2024-03-12  \n4         dir  {'id': 555, 'name': 'silva'}  2024-04-07  2024-05-07  ",
      "text/html": "<div>\n<style scoped>\n    .dataframe tbody tr th:only-of-type {\n        vertical-align: middle;\n    }\n\n    .dataframe tbody tr th {\n        vertical-align: top;\n    }\n\n    .dataframe thead th {\n        text-align: right;\n    }\n</style>\n<table border=\"1\" class=\"dataframe\">\n  <thead>\n    <tr style=\"text-align: right;\">\n      <th></th>\n      <th>shot_code</th>\n      <th>geo_type</th>\n      <th>cam_transform_x</th>\n      <th>cam_transform_y</th>\n      <th>cam_transform_z</th>\n      <th>cam_rotation_x</th>\n      <th>cam_rotation_y</th>\n      <th>cam_rotation_z</th>\n      <th>project</th>\n      <th>status</th>\n      <th>task</th>\n      <th>shot_status</th>\n      <th>user</th>\n      <th>start_date</th>\n      <th>due_date</th>\n    </tr>\n  </thead>\n  <tbody>\n    <tr>\n      <th>1</th>\n      <td>BBB_001</td>\n      <td>templatebody</td>\n      <td>0.207684</td>\n      <td>3.17331</td>\n      <td>-2.52276</td>\n      <td>-40.0752</td>\n      <td>174.118</td>\n      <td>-0.000006</td>\n      <td>R&amp;D</td>\n      <td>wip</td>\n      <td>electric</td>\n      <td>wip</td>\n      <td>{'id': 111, 'name': 'simon'}</td>\n      <td>2024-02-22</td>\n      <td>2024-03-12</td>\n    </tr>\n    <tr>\n      <th>4</th>\n      <td>EEE_001</td>\n      <td>templatebody</td>\n      <td>0.207684</td>\n      <td>3.17331</td>\n      <td>-2.52276</td>\n      <td>-40.0752</td>\n      <td>174.118</td>\n      <td>-0.000006</td>\n      <td>R&amp;D</td>\n      <td>hld</td>\n      <td>fire</td>\n      <td>dir</td>\n      <td>{'id': 555, 'name': 'silva'}</td>\n      <td>2024-04-07</td>\n      <td>2024-05-07</td>\n    </tr>\n  </tbody>\n</table>\n</div>"
     },
     "execution_count": 247,
     "metadata": {},
     "output_type": "execute_result"
    }
   ],
   "source": [
    "df_sg[df_sg[\"cam_rotation_y\"]>100]"
   ],
   "metadata": {
    "collapsed": false,
    "ExecuteTime": {
     "end_time": "2024-02-23T07:59:33.694885800Z",
     "start_time": "2024-02-23T07:59:33.475473900Z"
    }
   }
  },
  {
   "cell_type": "code",
   "execution_count": 248,
   "outputs": [
    {
     "data": {
      "text/plain": "  shot_code      geo_type  cam_transform_x  cam_transform_y  cam_transform_z  \\\n0   AAA_001       pighead        -2.704300          2.50581          4.06212   \n1   BBB_001  templatebody         0.207684          3.17331         -2.52276   \n\n   cam_rotation_x  cam_rotation_y  cam_rotation_z project  status      task  \\\n0        -30.4744        -38.8465       -0.000003     R&D  assign  electric   \n1        -40.0752        174.1180       -0.000006     R&D     wip  electric   \n\n  shot_status                          user  start_date    due_date  \n0      assign  {'id': 111, 'name': 'simon'}  2024-02-24  2024-03-20  \n1         wip  {'id': 111, 'name': 'simon'}  2024-02-22  2024-03-12  ",
      "text/html": "<div>\n<style scoped>\n    .dataframe tbody tr th:only-of-type {\n        vertical-align: middle;\n    }\n\n    .dataframe tbody tr th {\n        vertical-align: top;\n    }\n\n    .dataframe thead th {\n        text-align: right;\n    }\n</style>\n<table border=\"1\" class=\"dataframe\">\n  <thead>\n    <tr style=\"text-align: right;\">\n      <th></th>\n      <th>shot_code</th>\n      <th>geo_type</th>\n      <th>cam_transform_x</th>\n      <th>cam_transform_y</th>\n      <th>cam_transform_z</th>\n      <th>cam_rotation_x</th>\n      <th>cam_rotation_y</th>\n      <th>cam_rotation_z</th>\n      <th>project</th>\n      <th>status</th>\n      <th>task</th>\n      <th>shot_status</th>\n      <th>user</th>\n      <th>start_date</th>\n      <th>due_date</th>\n    </tr>\n  </thead>\n  <tbody>\n    <tr>\n      <th>0</th>\n      <td>AAA_001</td>\n      <td>pighead</td>\n      <td>-2.704300</td>\n      <td>2.50581</td>\n      <td>4.06212</td>\n      <td>-30.4744</td>\n      <td>-38.8465</td>\n      <td>-0.000003</td>\n      <td>R&amp;D</td>\n      <td>assign</td>\n      <td>electric</td>\n      <td>assign</td>\n      <td>{'id': 111, 'name': 'simon'}</td>\n      <td>2024-02-24</td>\n      <td>2024-03-20</td>\n    </tr>\n    <tr>\n      <th>1</th>\n      <td>BBB_001</td>\n      <td>templatebody</td>\n      <td>0.207684</td>\n      <td>3.17331</td>\n      <td>-2.52276</td>\n      <td>-40.0752</td>\n      <td>174.1180</td>\n      <td>-0.000006</td>\n      <td>R&amp;D</td>\n      <td>wip</td>\n      <td>electric</td>\n      <td>wip</td>\n      <td>{'id': 111, 'name': 'simon'}</td>\n      <td>2024-02-22</td>\n      <td>2024-03-12</td>\n    </tr>\n  </tbody>\n</table>\n</div>"
     },
     "execution_count": 248,
     "metadata": {},
     "output_type": "execute_result"
    }
   ],
   "source": [
    " # (shot_status == 'omt' | shot_status == 'wip' | shot_status == 'dir' | shot_status == 'retake' | shot_status == 'done' | shot_status == 'assign' | shot_status == 'hld' | shot_status == 'out') & (status == 'pubr' | status == 'wip' | status == 'assign' | status == 'retake')\n",
    "\n",
    "query = \"(task == 'electric' | task == 'fire') & (shot_status == 'assign' | shot_status == 'wip')\"\n",
    "df_sg.query(query)\n",
    "\n",
    "\n"
   ],
   "metadata": {
    "collapsed": false,
    "ExecuteTime": {
     "end_time": "2024-02-23T07:59:33.951201600Z",
     "start_time": "2024-02-23T07:59:33.521350800Z"
    }
   }
  },
  {
   "cell_type": "markdown",
   "source": [
    "#  Animation pub 관련 정보 가져오기."
   ],
   "metadata": {
    "collapsed": false
   }
  },
  {
   "cell_type": "code",
   "execution_count": 249,
   "outputs": [
    {
     "data": {
      "text/plain": "  shot_code project pub_status  pub_ver           updated_at\n0   AAA_001     R&D        pub        4  2024-02-10 10:50:38\n1   BBB_001     R&D        pub        4  2024-02-12 13:20:38\n2   CCC_001     R&D        pub        4  2024-02-20 11:10:10\n3   DDD_001     R&D       tpub        7  2024-03-01 11:10:10\n4   EEE_001     R&D     retake        2  2024-04-02 18:20:10\n5   FFF_001     R&D        wtg        1  2024-04-02 11:15:50\n6   AAA_001     R&D        pub        8  2024-03-01 13:10:10\n7   BBB_001     R&D        pub        9  2024-04-02 20:20:10\n8   CCC_001     R&D        pub       10  2024-04-02 15:15:50\n9   CCC_001     R&D        pub       12  2024-04-02 20:15:50",
      "text/html": "<div>\n<style scoped>\n    .dataframe tbody tr th:only-of-type {\n        vertical-align: middle;\n    }\n\n    .dataframe tbody tr th {\n        vertical-align: top;\n    }\n\n    .dataframe thead th {\n        text-align: right;\n    }\n</style>\n<table border=\"1\" class=\"dataframe\">\n  <thead>\n    <tr style=\"text-align: right;\">\n      <th></th>\n      <th>shot_code</th>\n      <th>project</th>\n      <th>pub_status</th>\n      <th>pub_ver</th>\n      <th>updated_at</th>\n    </tr>\n  </thead>\n  <tbody>\n    <tr>\n      <th>0</th>\n      <td>AAA_001</td>\n      <td>R&amp;D</td>\n      <td>pub</td>\n      <td>4</td>\n      <td>2024-02-10 10:50:38</td>\n    </tr>\n    <tr>\n      <th>1</th>\n      <td>BBB_001</td>\n      <td>R&amp;D</td>\n      <td>pub</td>\n      <td>4</td>\n      <td>2024-02-12 13:20:38</td>\n    </tr>\n    <tr>\n      <th>2</th>\n      <td>CCC_001</td>\n      <td>R&amp;D</td>\n      <td>pub</td>\n      <td>4</td>\n      <td>2024-02-20 11:10:10</td>\n    </tr>\n    <tr>\n      <th>3</th>\n      <td>DDD_001</td>\n      <td>R&amp;D</td>\n      <td>tpub</td>\n      <td>7</td>\n      <td>2024-03-01 11:10:10</td>\n    </tr>\n    <tr>\n      <th>4</th>\n      <td>EEE_001</td>\n      <td>R&amp;D</td>\n      <td>retake</td>\n      <td>2</td>\n      <td>2024-04-02 18:20:10</td>\n    </tr>\n    <tr>\n      <th>5</th>\n      <td>FFF_001</td>\n      <td>R&amp;D</td>\n      <td>wtg</td>\n      <td>1</td>\n      <td>2024-04-02 11:15:50</td>\n    </tr>\n    <tr>\n      <th>6</th>\n      <td>AAA_001</td>\n      <td>R&amp;D</td>\n      <td>pub</td>\n      <td>8</td>\n      <td>2024-03-01 13:10:10</td>\n    </tr>\n    <tr>\n      <th>7</th>\n      <td>BBB_001</td>\n      <td>R&amp;D</td>\n      <td>pub</td>\n      <td>9</td>\n      <td>2024-04-02 20:20:10</td>\n    </tr>\n    <tr>\n      <th>8</th>\n      <td>CCC_001</td>\n      <td>R&amp;D</td>\n      <td>pub</td>\n      <td>10</td>\n      <td>2024-04-02 15:15:50</td>\n    </tr>\n    <tr>\n      <th>9</th>\n      <td>CCC_001</td>\n      <td>R&amp;D</td>\n      <td>pub</td>\n      <td>12</td>\n      <td>2024-04-02 20:15:50</td>\n    </tr>\n  </tbody>\n</table>\n</div>"
     },
     "execution_count": 249,
     "metadata": {},
     "output_type": "execute_result"
    }
   ],
   "source": [
    "df_ani_pub = pd.read_csv(\"sg_ani_pub_info.csv\")\n",
    "\n",
    "df_ani_pub"
   ],
   "metadata": {
    "collapsed": false,
    "ExecuteTime": {
     "end_time": "2024-02-23T07:59:34.066891400Z",
     "start_time": "2024-02-23T07:59:33.615104200Z"
    }
   }
  },
  {
   "cell_type": "code",
   "execution_count": 250,
   "metadata": {
    "pycharm": {
     "name": "#%%\n"
    },
    "ExecuteTime": {
     "end_time": "2024-02-23T07:59:34.108780Z",
     "start_time": "2024-02-23T07:59:33.665964400Z"
    }
   },
   "outputs": [
    {
     "data": {
      "text/plain": "shot_code\nAAA_001    6\nBBB_001    7\nCCC_001    9\nDDD_001    3\nEEE_001    4\nFFF_001    5\nName: pub_ver, dtype: int64"
     },
     "execution_count": 250,
     "metadata": {},
     "output_type": "execute_result"
    }
   ],
   "source": [
    "# idxmax와 idxmin은 각각 축에서 최대/최소값의 인덱스를 반환하는 메서드입니다.\n",
    "df_ani_pub.groupby([\"shot_code\"])[\"pub_ver\"].idxmax()\n"
   ]
  },
  {
   "cell_type": "code",
   "execution_count": 251,
   "outputs": [
    {
     "data": {
      "text/plain": "  shot_code project pub_status  pub_ver           updated_at\n0   AAA_001     R&D        pub        4  2024-02-10 10:50:38\n1   BBB_001     R&D        pub        4  2024-02-12 13:20:38",
      "text/html": "<div>\n<style scoped>\n    .dataframe tbody tr th:only-of-type {\n        vertical-align: middle;\n    }\n\n    .dataframe tbody tr th {\n        vertical-align: top;\n    }\n\n    .dataframe thead th {\n        text-align: right;\n    }\n</style>\n<table border=\"1\" class=\"dataframe\">\n  <thead>\n    <tr style=\"text-align: right;\">\n      <th></th>\n      <th>shot_code</th>\n      <th>project</th>\n      <th>pub_status</th>\n      <th>pub_ver</th>\n      <th>updated_at</th>\n    </tr>\n  </thead>\n  <tbody>\n    <tr>\n      <th>0</th>\n      <td>AAA_001</td>\n      <td>R&amp;D</td>\n      <td>pub</td>\n      <td>4</td>\n      <td>2024-02-10 10:50:38</td>\n    </tr>\n    <tr>\n      <th>1</th>\n      <td>BBB_001</td>\n      <td>R&amp;D</td>\n      <td>pub</td>\n      <td>4</td>\n      <td>2024-02-12 13:20:38</td>\n    </tr>\n  </tbody>\n</table>\n</div>"
     },
     "execution_count": 251,
     "metadata": {},
     "output_type": "execute_result"
    }
   ],
   "source": [
    "df_ani_pub.loc[[0, 1]]"
   ],
   "metadata": {
    "collapsed": false,
    "ExecuteTime": {
     "end_time": "2024-02-23T07:59:34.202055500Z",
     "start_time": "2024-02-23T07:59:33.689900500Z"
    }
   }
  },
  {
   "cell_type": "code",
   "execution_count": 252,
   "outputs": [
    {
     "data": {
      "text/plain": "  shot_code project pub_status  pub_ver           updated_at\n6   AAA_001     R&D        pub        8  2024-03-01 13:10:10\n7   BBB_001     R&D        pub        9  2024-04-02 20:20:10\n9   CCC_001     R&D        pub       12  2024-04-02 20:15:50\n3   DDD_001     R&D       tpub        7  2024-03-01 11:10:10\n4   EEE_001     R&D     retake        2  2024-04-02 18:20:10\n5   FFF_001     R&D        wtg        1  2024-04-02 11:15:50",
      "text/html": "<div>\n<style scoped>\n    .dataframe tbody tr th:only-of-type {\n        vertical-align: middle;\n    }\n\n    .dataframe tbody tr th {\n        vertical-align: top;\n    }\n\n    .dataframe thead th {\n        text-align: right;\n    }\n</style>\n<table border=\"1\" class=\"dataframe\">\n  <thead>\n    <tr style=\"text-align: right;\">\n      <th></th>\n      <th>shot_code</th>\n      <th>project</th>\n      <th>pub_status</th>\n      <th>pub_ver</th>\n      <th>updated_at</th>\n    </tr>\n  </thead>\n  <tbody>\n    <tr>\n      <th>6</th>\n      <td>AAA_001</td>\n      <td>R&amp;D</td>\n      <td>pub</td>\n      <td>8</td>\n      <td>2024-03-01 13:10:10</td>\n    </tr>\n    <tr>\n      <th>7</th>\n      <td>BBB_001</td>\n      <td>R&amp;D</td>\n      <td>pub</td>\n      <td>9</td>\n      <td>2024-04-02 20:20:10</td>\n    </tr>\n    <tr>\n      <th>9</th>\n      <td>CCC_001</td>\n      <td>R&amp;D</td>\n      <td>pub</td>\n      <td>12</td>\n      <td>2024-04-02 20:15:50</td>\n    </tr>\n    <tr>\n      <th>3</th>\n      <td>DDD_001</td>\n      <td>R&amp;D</td>\n      <td>tpub</td>\n      <td>7</td>\n      <td>2024-03-01 11:10:10</td>\n    </tr>\n    <tr>\n      <th>4</th>\n      <td>EEE_001</td>\n      <td>R&amp;D</td>\n      <td>retake</td>\n      <td>2</td>\n      <td>2024-04-02 18:20:10</td>\n    </tr>\n    <tr>\n      <th>5</th>\n      <td>FFF_001</td>\n      <td>R&amp;D</td>\n      <td>wtg</td>\n      <td>1</td>\n      <td>2024-04-02 11:15:50</td>\n    </tr>\n  </tbody>\n</table>\n</div>"
     },
     "execution_count": 252,
     "metadata": {},
     "output_type": "execute_result"
    }
   ],
   "source": [
    "df_ani_pub = df_ani_pub.loc[df_ani_pub.groupby([\"shot_code\"])[\"pub_ver\"].idxmax()]\n",
    "df_ani_pub"
   ],
   "metadata": {
    "collapsed": false,
    "ExecuteTime": {
     "end_time": "2024-02-23T07:59:34.227991400Z",
     "start_time": "2024-02-23T07:59:33.737773Z"
    }
   }
  },
  {
   "cell_type": "code",
   "execution_count": 253,
   "metadata": {
    "pycharm": {
     "name": "#%%\n"
    },
    "ExecuteTime": {
     "end_time": "2024-02-23T07:59:34.252343300Z",
     "start_time": "2024-02-23T07:59:33.766694900Z"
    }
   },
   "outputs": [
    {
     "data": {
      "text/plain": "  shot_code ani_pub_status  ani_pub_ver ani_pub_updated_time\n6   AAA_001            pub            8  2024-03-01 13:10:10\n7   BBB_001            pub            9  2024-04-02 20:20:10\n9   CCC_001            pub           12  2024-04-02 20:15:50\n3   DDD_001           tpub            7  2024-03-01 11:10:10\n4   EEE_001         retake            2  2024-04-02 18:20:10\n5   FFF_001            wtg            1  2024-04-02 11:15:50",
      "text/html": "<div>\n<style scoped>\n    .dataframe tbody tr th:only-of-type {\n        vertical-align: middle;\n    }\n\n    .dataframe tbody tr th {\n        vertical-align: top;\n    }\n\n    .dataframe thead th {\n        text-align: right;\n    }\n</style>\n<table border=\"1\" class=\"dataframe\">\n  <thead>\n    <tr style=\"text-align: right;\">\n      <th></th>\n      <th>shot_code</th>\n      <th>ani_pub_status</th>\n      <th>ani_pub_ver</th>\n      <th>ani_pub_updated_time</th>\n    </tr>\n  </thead>\n  <tbody>\n    <tr>\n      <th>6</th>\n      <td>AAA_001</td>\n      <td>pub</td>\n      <td>8</td>\n      <td>2024-03-01 13:10:10</td>\n    </tr>\n    <tr>\n      <th>7</th>\n      <td>BBB_001</td>\n      <td>pub</td>\n      <td>9</td>\n      <td>2024-04-02 20:20:10</td>\n    </tr>\n    <tr>\n      <th>9</th>\n      <td>CCC_001</td>\n      <td>pub</td>\n      <td>12</td>\n      <td>2024-04-02 20:15:50</td>\n    </tr>\n    <tr>\n      <th>3</th>\n      <td>DDD_001</td>\n      <td>tpub</td>\n      <td>7</td>\n      <td>2024-03-01 11:10:10</td>\n    </tr>\n    <tr>\n      <th>4</th>\n      <td>EEE_001</td>\n      <td>retake</td>\n      <td>2</td>\n      <td>2024-04-02 18:20:10</td>\n    </tr>\n    <tr>\n      <th>5</th>\n      <td>FFF_001</td>\n      <td>wtg</td>\n      <td>1</td>\n      <td>2024-04-02 11:15:50</td>\n    </tr>\n  </tbody>\n</table>\n</div>"
     },
     "execution_count": 253,
     "metadata": {},
     "output_type": "execute_result"
    }
   ],
   "source": [
    "dict_rename = {\"pub_status\": \"ani_pub_status\" , \"pub_ver\":\"ani_pub_ver\" , \"updated_at\": \"ani_pub_updated_time\"}\n",
    "df_ani_pub.rename(columns=dict_rename, inplace=True)\n",
    "df_ani_pub = df_ani_pub[[\"shot_code\", \"ani_pub_status\", \"ani_pub_ver\", \"ani_pub_updated_time\"]]\n",
    "df_ani_pub"
   ]
  },
  {
   "cell_type": "code",
   "execution_count": 254,
   "outputs": [],
   "source": [
    "#df_ani_pub.loc[6] = [\"GGG_001\", \"tpub\", 3, \"ddd\"]\n",
    "\n",
    "#df_ani_pub.append({'shot_code':'GGG_001','ani_pub_status':'tpub', 'ani_pub_ver':'1','ani_pub_updated_time':\"`1\"}, ignore_index=True)"
   ],
   "metadata": {
    "collapsed": false,
    "ExecuteTime": {
     "end_time": "2024-02-23T07:59:34.270280600Z",
     "start_time": "2024-02-23T07:59:33.798609400Z"
    }
   }
  },
  {
   "cell_type": "code",
   "execution_count": 255,
   "metadata": {
    "collapsed": false,
    "ExecuteTime": {
     "end_time": "2024-02-23T07:59:34.301618700Z",
     "start_time": "2024-02-23T07:59:33.815564300Z"
    }
   },
   "outputs": [
    {
     "data": {
      "text/plain": "  shot_code      geo_type  cam_transform_x  cam_transform_y  cam_transform_z  \\\n0   AAA_001       pighead        -2.704300         2.505810         4.062120   \n1   BBB_001  templatebody         0.207684         3.173310        -2.522760   \n2   CCC_001  templatehead         0.400994         0.650936         0.834343   \n3   DDD_001       pighead        -2.704300         2.505810         4.062120   \n4   EEE_001  templatebody         0.207684         3.173310        -2.522760   \n5   FFF_001  templatehead         0.400994         0.650936         0.834343   \n\n   cam_rotation_x  cam_rotation_y  cam_rotation_z project  status      task  \\\n0        -30.4744        -38.8465       -0.000003     R&D  assign  electric   \n1        -40.0752        174.1180       -0.000006     R&D     wip  electric   \n2        -28.4560         28.4740       -0.000007     R&D  retake  electric   \n3        -30.4744        -38.8465       -0.000003     R&D    done     ocean   \n4        -40.0752        174.1180       -0.000006     R&D     hld      fire   \n5        -28.4560         28.4740       -0.000007     R&D     omt     smoke   \n\n  shot_status                          user  start_date    due_date  \\\n0      assign  {'id': 111, 'name': 'simon'}  2024-02-24  2024-03-20   \n1         wip  {'id': 111, 'name': 'simon'}  2024-02-22  2024-03-12   \n2      retake  {'id': 111, 'name': 'simon'}  2024-02-20  2024-03-01   \n3        done  {'id': 444, 'name': 'mendy'}  1111-11-11  1111-11-11   \n4         dir  {'id': 555, 'name': 'silva'}  2024-04-07  2024-05-07   \n5         omt   {'id': 666, 'name': 'luka'}  2024-11-11  2024-12-24   \n\n  ani_pub_status  ani_pub_ver ani_pub_updated_time  \n0            pub            8  2024-03-01 13:10:10  \n1            pub            9  2024-04-02 20:20:10  \n2            pub           12  2024-04-02 20:15:50  \n3           tpub            7  2024-03-01 11:10:10  \n4         retake            2  2024-04-02 18:20:10  \n5            wtg            1  2024-04-02 11:15:50  ",
      "text/html": "<div>\n<style scoped>\n    .dataframe tbody tr th:only-of-type {\n        vertical-align: middle;\n    }\n\n    .dataframe tbody tr th {\n        vertical-align: top;\n    }\n\n    .dataframe thead th {\n        text-align: right;\n    }\n</style>\n<table border=\"1\" class=\"dataframe\">\n  <thead>\n    <tr style=\"text-align: right;\">\n      <th></th>\n      <th>shot_code</th>\n      <th>geo_type</th>\n      <th>cam_transform_x</th>\n      <th>cam_transform_y</th>\n      <th>cam_transform_z</th>\n      <th>cam_rotation_x</th>\n      <th>cam_rotation_y</th>\n      <th>cam_rotation_z</th>\n      <th>project</th>\n      <th>status</th>\n      <th>task</th>\n      <th>shot_status</th>\n      <th>user</th>\n      <th>start_date</th>\n      <th>due_date</th>\n      <th>ani_pub_status</th>\n      <th>ani_pub_ver</th>\n      <th>ani_pub_updated_time</th>\n    </tr>\n  </thead>\n  <tbody>\n    <tr>\n      <th>0</th>\n      <td>AAA_001</td>\n      <td>pighead</td>\n      <td>-2.704300</td>\n      <td>2.505810</td>\n      <td>4.062120</td>\n      <td>-30.4744</td>\n      <td>-38.8465</td>\n      <td>-0.000003</td>\n      <td>R&amp;D</td>\n      <td>assign</td>\n      <td>electric</td>\n      <td>assign</td>\n      <td>{'id': 111, 'name': 'simon'}</td>\n      <td>2024-02-24</td>\n      <td>2024-03-20</td>\n      <td>pub</td>\n      <td>8</td>\n      <td>2024-03-01 13:10:10</td>\n    </tr>\n    <tr>\n      <th>1</th>\n      <td>BBB_001</td>\n      <td>templatebody</td>\n      <td>0.207684</td>\n      <td>3.173310</td>\n      <td>-2.522760</td>\n      <td>-40.0752</td>\n      <td>174.1180</td>\n      <td>-0.000006</td>\n      <td>R&amp;D</td>\n      <td>wip</td>\n      <td>electric</td>\n      <td>wip</td>\n      <td>{'id': 111, 'name': 'simon'}</td>\n      <td>2024-02-22</td>\n      <td>2024-03-12</td>\n      <td>pub</td>\n      <td>9</td>\n      <td>2024-04-02 20:20:10</td>\n    </tr>\n    <tr>\n      <th>2</th>\n      <td>CCC_001</td>\n      <td>templatehead</td>\n      <td>0.400994</td>\n      <td>0.650936</td>\n      <td>0.834343</td>\n      <td>-28.4560</td>\n      <td>28.4740</td>\n      <td>-0.000007</td>\n      <td>R&amp;D</td>\n      <td>retake</td>\n      <td>electric</td>\n      <td>retake</td>\n      <td>{'id': 111, 'name': 'simon'}</td>\n      <td>2024-02-20</td>\n      <td>2024-03-01</td>\n      <td>pub</td>\n      <td>12</td>\n      <td>2024-04-02 20:15:50</td>\n    </tr>\n    <tr>\n      <th>3</th>\n      <td>DDD_001</td>\n      <td>pighead</td>\n      <td>-2.704300</td>\n      <td>2.505810</td>\n      <td>4.062120</td>\n      <td>-30.4744</td>\n      <td>-38.8465</td>\n      <td>-0.000003</td>\n      <td>R&amp;D</td>\n      <td>done</td>\n      <td>ocean</td>\n      <td>done</td>\n      <td>{'id': 444, 'name': 'mendy'}</td>\n      <td>1111-11-11</td>\n      <td>1111-11-11</td>\n      <td>tpub</td>\n      <td>7</td>\n      <td>2024-03-01 11:10:10</td>\n    </tr>\n    <tr>\n      <th>4</th>\n      <td>EEE_001</td>\n      <td>templatebody</td>\n      <td>0.207684</td>\n      <td>3.173310</td>\n      <td>-2.522760</td>\n      <td>-40.0752</td>\n      <td>174.1180</td>\n      <td>-0.000006</td>\n      <td>R&amp;D</td>\n      <td>hld</td>\n      <td>fire</td>\n      <td>dir</td>\n      <td>{'id': 555, 'name': 'silva'}</td>\n      <td>2024-04-07</td>\n      <td>2024-05-07</td>\n      <td>retake</td>\n      <td>2</td>\n      <td>2024-04-02 18:20:10</td>\n    </tr>\n    <tr>\n      <th>5</th>\n      <td>FFF_001</td>\n      <td>templatehead</td>\n      <td>0.400994</td>\n      <td>0.650936</td>\n      <td>0.834343</td>\n      <td>-28.4560</td>\n      <td>28.4740</td>\n      <td>-0.000007</td>\n      <td>R&amp;D</td>\n      <td>omt</td>\n      <td>smoke</td>\n      <td>omt</td>\n      <td>{'id': 666, 'name': 'luka'}</td>\n      <td>2024-11-11</td>\n      <td>2024-12-24</td>\n      <td>wtg</td>\n      <td>1</td>\n      <td>2024-04-02 11:15:50</td>\n    </tr>\n  </tbody>\n</table>\n</div>"
     },
     "execution_count": 255,
     "metadata": {},
     "output_type": "execute_result"
    }
   ],
   "source": [
    "pd.merge(df_sg, df_ani_pub, on=\"shot_code\", how=\"left\")\n"
   ]
  },
  {
   "cell_type": "code",
   "outputs": [],
   "source": [],
   "metadata": {
    "pycharm": {
     "name": "#%%\n"
    },
    "ExecuteTime": {
     "end_time": "2024-02-23T07:59:34.301618700Z",
     "start_time": "2024-02-23T07:59:33.876400800Z"
    }
   },
   "execution_count": 255
  },
  {
   "cell_type": "code",
   "execution_count": 255,
   "metadata": {
    "pycharm": {
     "name": "#%%\n"
    },
    "ExecuteTime": {
     "end_time": "2024-02-23T07:59:34.316521900Z",
     "start_time": "2024-02-23T07:59:33.894354100Z"
    }
   },
   "outputs": [],
   "source": []
  },
  {
   "cell_type": "markdown",
   "source": [
    "# Ani Status"
   ],
   "metadata": {
    "collapsed": false
   }
  },
  {
   "cell_type": "code",
   "execution_count": 256,
   "outputs": [
    {
     "data": {
      "text/plain": "  shot_code project  status\n0   AAA_001     R&D  assign\n1   BBB_001     R&D     wip\n2   CCC_001     R&D  retake\n3   DDD_001     R&D    done\n4   EEE_001     R&D     hld\n5   FFF_001     R&D     omt",
      "text/html": "<div>\n<style scoped>\n    .dataframe tbody tr th:only-of-type {\n        vertical-align: middle;\n    }\n\n    .dataframe tbody tr th {\n        vertical-align: top;\n    }\n\n    .dataframe thead th {\n        text-align: right;\n    }\n</style>\n<table border=\"1\" class=\"dataframe\">\n  <thead>\n    <tr style=\"text-align: right;\">\n      <th></th>\n      <th>shot_code</th>\n      <th>project</th>\n      <th>status</th>\n    </tr>\n  </thead>\n  <tbody>\n    <tr>\n      <th>0</th>\n      <td>AAA_001</td>\n      <td>R&amp;D</td>\n      <td>assign</td>\n    </tr>\n    <tr>\n      <th>1</th>\n      <td>BBB_001</td>\n      <td>R&amp;D</td>\n      <td>wip</td>\n    </tr>\n    <tr>\n      <th>2</th>\n      <td>CCC_001</td>\n      <td>R&amp;D</td>\n      <td>retake</td>\n    </tr>\n    <tr>\n      <th>3</th>\n      <td>DDD_001</td>\n      <td>R&amp;D</td>\n      <td>done</td>\n    </tr>\n    <tr>\n      <th>4</th>\n      <td>EEE_001</td>\n      <td>R&amp;D</td>\n      <td>hld</td>\n    </tr>\n    <tr>\n      <th>5</th>\n      <td>FFF_001</td>\n      <td>R&amp;D</td>\n      <td>omt</td>\n    </tr>\n  </tbody>\n</table>\n</div>"
     },
     "execution_count": 256,
     "metadata": {},
     "output_type": "execute_result"
    }
   ],
   "source": [
    "df_ani_status = pd.read_csv(\"sg_ani_status_info.csv\")\n",
    "#df_ani_status.append({'shot_code':None,'project':'test', 'status':'ttt'}, ignore_index=True)\n",
    "df_ani_status = df_ani_status.dropna(subset=[\"shot_code\"])\n",
    "df_ani_status"
   ],
   "metadata": {
    "collapsed": false,
    "ExecuteTime": {
     "end_time": "2024-02-23T07:59:34.327492500Z",
     "start_time": "2024-02-23T07:59:33.911307200Z"
    }
   }
  },
  {
   "cell_type": "code",
   "execution_count": 257,
   "metadata": {
    "pycharm": {
     "name": "#%%\n"
    },
    "ExecuteTime": {
     "end_time": "2024-02-23T07:59:34.327492500Z",
     "start_time": "2024-02-23T07:59:33.951201600Z"
    }
   },
   "outputs": [
    {
     "data": {
      "text/plain": "  shot_code ani_status\n0   AAA_001     assign\n1   BBB_001        wip\n2   CCC_001     retake\n3   DDD_001       done\n4   EEE_001        hld\n5   FFF_001        omt",
      "text/html": "<div>\n<style scoped>\n    .dataframe tbody tr th:only-of-type {\n        vertical-align: middle;\n    }\n\n    .dataframe tbody tr th {\n        vertical-align: top;\n    }\n\n    .dataframe thead th {\n        text-align: right;\n    }\n</style>\n<table border=\"1\" class=\"dataframe\">\n  <thead>\n    <tr style=\"text-align: right;\">\n      <th></th>\n      <th>shot_code</th>\n      <th>ani_status</th>\n    </tr>\n  </thead>\n  <tbody>\n    <tr>\n      <th>0</th>\n      <td>AAA_001</td>\n      <td>assign</td>\n    </tr>\n    <tr>\n      <th>1</th>\n      <td>BBB_001</td>\n      <td>wip</td>\n    </tr>\n    <tr>\n      <th>2</th>\n      <td>CCC_001</td>\n      <td>retake</td>\n    </tr>\n    <tr>\n      <th>3</th>\n      <td>DDD_001</td>\n      <td>done</td>\n    </tr>\n    <tr>\n      <th>4</th>\n      <td>EEE_001</td>\n      <td>hld</td>\n    </tr>\n    <tr>\n      <th>5</th>\n      <td>FFF_001</td>\n      <td>omt</td>\n    </tr>\n  </tbody>\n</table>\n</div>"
     },
     "execution_count": 257,
     "metadata": {},
     "output_type": "execute_result"
    }
   ],
   "source": [
    "df_ani_status.rename(columns={\"status\":\"ani_status\"}, inplace=True)\n",
    "df_ani_status = df_ani_status[[\"shot_code\", \"ani_status\"]]\n",
    "df_ani_status\n"
   ]
  },
  {
   "cell_type": "code",
   "execution_count": 258,
   "metadata": {
    "pycharm": {
     "name": "#%%\n"
    },
    "ExecuteTime": {
     "end_time": "2024-02-23T07:59:34.505016700Z",
     "start_time": "2024-02-23T07:59:33.986108900Z"
    }
   },
   "outputs": [
    {
     "data": {
      "text/plain": "  shot_code      geo_type  cam_transform_x  cam_transform_y  cam_transform_z  \\\n0   AAA_001       pighead        -2.704300         2.505810         4.062120   \n1   BBB_001  templatebody         0.207684         3.173310        -2.522760   \n2   CCC_001  templatehead         0.400994         0.650936         0.834343   \n3   DDD_001       pighead        -2.704300         2.505810         4.062120   \n4   EEE_001  templatebody         0.207684         3.173310        -2.522760   \n5   FFF_001  templatehead         0.400994         0.650936         0.834343   \n\n   cam_rotation_x  cam_rotation_y  cam_rotation_z project  status      task  \\\n0        -30.4744        -38.8465       -0.000003     R&D  assign  electric   \n1        -40.0752        174.1180       -0.000006     R&D     wip  electric   \n2        -28.4560         28.4740       -0.000007     R&D  retake  electric   \n3        -30.4744        -38.8465       -0.000003     R&D    done     ocean   \n4        -40.0752        174.1180       -0.000006     R&D     hld      fire   \n5        -28.4560         28.4740       -0.000007     R&D     omt     smoke   \n\n  shot_status                          user  start_date    due_date ani_status  \n0      assign  {'id': 111, 'name': 'simon'}  2024-02-24  2024-03-20     assign  \n1         wip  {'id': 111, 'name': 'simon'}  2024-02-22  2024-03-12        wip  \n2      retake  {'id': 111, 'name': 'simon'}  2024-02-20  2024-03-01     retake  \n3        done  {'id': 444, 'name': 'mendy'}  1111-11-11  1111-11-11       done  \n4         dir  {'id': 555, 'name': 'silva'}  2024-04-07  2024-05-07        hld  \n5         omt   {'id': 666, 'name': 'luka'}  2024-11-11  2024-12-24        omt  ",
      "text/html": "<div>\n<style scoped>\n    .dataframe tbody tr th:only-of-type {\n        vertical-align: middle;\n    }\n\n    .dataframe tbody tr th {\n        vertical-align: top;\n    }\n\n    .dataframe thead th {\n        text-align: right;\n    }\n</style>\n<table border=\"1\" class=\"dataframe\">\n  <thead>\n    <tr style=\"text-align: right;\">\n      <th></th>\n      <th>shot_code</th>\n      <th>geo_type</th>\n      <th>cam_transform_x</th>\n      <th>cam_transform_y</th>\n      <th>cam_transform_z</th>\n      <th>cam_rotation_x</th>\n      <th>cam_rotation_y</th>\n      <th>cam_rotation_z</th>\n      <th>project</th>\n      <th>status</th>\n      <th>task</th>\n      <th>shot_status</th>\n      <th>user</th>\n      <th>start_date</th>\n      <th>due_date</th>\n      <th>ani_status</th>\n    </tr>\n  </thead>\n  <tbody>\n    <tr>\n      <th>0</th>\n      <td>AAA_001</td>\n      <td>pighead</td>\n      <td>-2.704300</td>\n      <td>2.505810</td>\n      <td>4.062120</td>\n      <td>-30.4744</td>\n      <td>-38.8465</td>\n      <td>-0.000003</td>\n      <td>R&amp;D</td>\n      <td>assign</td>\n      <td>electric</td>\n      <td>assign</td>\n      <td>{'id': 111, 'name': 'simon'}</td>\n      <td>2024-02-24</td>\n      <td>2024-03-20</td>\n      <td>assign</td>\n    </tr>\n    <tr>\n      <th>1</th>\n      <td>BBB_001</td>\n      <td>templatebody</td>\n      <td>0.207684</td>\n      <td>3.173310</td>\n      <td>-2.522760</td>\n      <td>-40.0752</td>\n      <td>174.1180</td>\n      <td>-0.000006</td>\n      <td>R&amp;D</td>\n      <td>wip</td>\n      <td>electric</td>\n      <td>wip</td>\n      <td>{'id': 111, 'name': 'simon'}</td>\n      <td>2024-02-22</td>\n      <td>2024-03-12</td>\n      <td>wip</td>\n    </tr>\n    <tr>\n      <th>2</th>\n      <td>CCC_001</td>\n      <td>templatehead</td>\n      <td>0.400994</td>\n      <td>0.650936</td>\n      <td>0.834343</td>\n      <td>-28.4560</td>\n      <td>28.4740</td>\n      <td>-0.000007</td>\n      <td>R&amp;D</td>\n      <td>retake</td>\n      <td>electric</td>\n      <td>retake</td>\n      <td>{'id': 111, 'name': 'simon'}</td>\n      <td>2024-02-20</td>\n      <td>2024-03-01</td>\n      <td>retake</td>\n    </tr>\n    <tr>\n      <th>3</th>\n      <td>DDD_001</td>\n      <td>pighead</td>\n      <td>-2.704300</td>\n      <td>2.505810</td>\n      <td>4.062120</td>\n      <td>-30.4744</td>\n      <td>-38.8465</td>\n      <td>-0.000003</td>\n      <td>R&amp;D</td>\n      <td>done</td>\n      <td>ocean</td>\n      <td>done</td>\n      <td>{'id': 444, 'name': 'mendy'}</td>\n      <td>1111-11-11</td>\n      <td>1111-11-11</td>\n      <td>done</td>\n    </tr>\n    <tr>\n      <th>4</th>\n      <td>EEE_001</td>\n      <td>templatebody</td>\n      <td>0.207684</td>\n      <td>3.173310</td>\n      <td>-2.522760</td>\n      <td>-40.0752</td>\n      <td>174.1180</td>\n      <td>-0.000006</td>\n      <td>R&amp;D</td>\n      <td>hld</td>\n      <td>fire</td>\n      <td>dir</td>\n      <td>{'id': 555, 'name': 'silva'}</td>\n      <td>2024-04-07</td>\n      <td>2024-05-07</td>\n      <td>hld</td>\n    </tr>\n    <tr>\n      <th>5</th>\n      <td>FFF_001</td>\n      <td>templatehead</td>\n      <td>0.400994</td>\n      <td>0.650936</td>\n      <td>0.834343</td>\n      <td>-28.4560</td>\n      <td>28.4740</td>\n      <td>-0.000007</td>\n      <td>R&amp;D</td>\n      <td>omt</td>\n      <td>smoke</td>\n      <td>omt</td>\n      <td>{'id': 666, 'name': 'luka'}</td>\n      <td>2024-11-11</td>\n      <td>2024-12-24</td>\n      <td>omt</td>\n    </tr>\n  </tbody>\n</table>\n</div>"
     },
     "execution_count": 258,
     "metadata": {},
     "output_type": "execute_result"
    }
   ],
   "source": [
    "pd.merge(df_sg, df_ani_status, on=\"shot_code\", how=\"left\")\n"
   ]
  },
  {
   "cell_type": "markdown",
   "source": [
    "# user"
   ],
   "metadata": {
    "collapsed": false
   }
  },
  {
   "cell_type": "code",
   "execution_count": 260,
   "outputs": [
    {
     "data": {
      "text/plain": "  shot_code      geo_type  cam_transform_x  cam_transform_y  cam_transform_z  \\\n0   AAA_001       pighead        -2.704300         2.505810         4.062120   \n1   BBB_001  templatebody         0.207684         3.173310        -2.522760   \n2   CCC_001  templatehead         0.400994         0.650936         0.834343   \n3   DDD_001       pighead        -2.704300         2.505810         4.062120   \n4   EEE_001  templatebody         0.207684         3.173310        -2.522760   \n5   FFF_001  templatehead         0.400994         0.650936         0.834343   \n\n   cam_rotation_x  cam_rotation_y  cam_rotation_z project  status      task  \\\n0        -30.4744        -38.8465       -0.000003     R&D  assign  electric   \n1        -40.0752        174.1180       -0.000006     R&D     wip  electric   \n2        -28.4560         28.4740       -0.000007     R&D  retake  electric   \n3        -30.4744        -38.8465       -0.000003     R&D    done     ocean   \n4        -40.0752        174.1180       -0.000006     R&D     hld      fire   \n5        -28.4560         28.4740       -0.000007     R&D     omt     smoke   \n\n  shot_status user  start_date    due_date  \n0      assign  111  2024-02-24  2024-03-20  \n1         wip  111  2024-02-22  2024-03-12  \n2      retake  111  2024-02-20  2024-03-01  \n3        done  444  1111-11-11  1111-11-11  \n4         dir  555  2024-04-07  2024-05-07  \n5         omt  666  2024-11-11  2024-12-24  ",
      "text/html": "<div>\n<style scoped>\n    .dataframe tbody tr th:only-of-type {\n        vertical-align: middle;\n    }\n\n    .dataframe tbody tr th {\n        vertical-align: top;\n    }\n\n    .dataframe thead th {\n        text-align: right;\n    }\n</style>\n<table border=\"1\" class=\"dataframe\">\n  <thead>\n    <tr style=\"text-align: right;\">\n      <th></th>\n      <th>shot_code</th>\n      <th>geo_type</th>\n      <th>cam_transform_x</th>\n      <th>cam_transform_y</th>\n      <th>cam_transform_z</th>\n      <th>cam_rotation_x</th>\n      <th>cam_rotation_y</th>\n      <th>cam_rotation_z</th>\n      <th>project</th>\n      <th>status</th>\n      <th>task</th>\n      <th>shot_status</th>\n      <th>user</th>\n      <th>start_date</th>\n      <th>due_date</th>\n    </tr>\n  </thead>\n  <tbody>\n    <tr>\n      <th>0</th>\n      <td>AAA_001</td>\n      <td>pighead</td>\n      <td>-2.704300</td>\n      <td>2.505810</td>\n      <td>4.062120</td>\n      <td>-30.4744</td>\n      <td>-38.8465</td>\n      <td>-0.000003</td>\n      <td>R&amp;D</td>\n      <td>assign</td>\n      <td>electric</td>\n      <td>assign</td>\n      <td>111</td>\n      <td>2024-02-24</td>\n      <td>2024-03-20</td>\n    </tr>\n    <tr>\n      <th>1</th>\n      <td>BBB_001</td>\n      <td>templatebody</td>\n      <td>0.207684</td>\n      <td>3.173310</td>\n      <td>-2.522760</td>\n      <td>-40.0752</td>\n      <td>174.1180</td>\n      <td>-0.000006</td>\n      <td>R&amp;D</td>\n      <td>wip</td>\n      <td>electric</td>\n      <td>wip</td>\n      <td>111</td>\n      <td>2024-02-22</td>\n      <td>2024-03-12</td>\n    </tr>\n    <tr>\n      <th>2</th>\n      <td>CCC_001</td>\n      <td>templatehead</td>\n      <td>0.400994</td>\n      <td>0.650936</td>\n      <td>0.834343</td>\n      <td>-28.4560</td>\n      <td>28.4740</td>\n      <td>-0.000007</td>\n      <td>R&amp;D</td>\n      <td>retake</td>\n      <td>electric</td>\n      <td>retake</td>\n      <td>111</td>\n      <td>2024-02-20</td>\n      <td>2024-03-01</td>\n    </tr>\n    <tr>\n      <th>3</th>\n      <td>DDD_001</td>\n      <td>pighead</td>\n      <td>-2.704300</td>\n      <td>2.505810</td>\n      <td>4.062120</td>\n      <td>-30.4744</td>\n      <td>-38.8465</td>\n      <td>-0.000003</td>\n      <td>R&amp;D</td>\n      <td>done</td>\n      <td>ocean</td>\n      <td>done</td>\n      <td>444</td>\n      <td>1111-11-11</td>\n      <td>1111-11-11</td>\n    </tr>\n    <tr>\n      <th>4</th>\n      <td>EEE_001</td>\n      <td>templatebody</td>\n      <td>0.207684</td>\n      <td>3.173310</td>\n      <td>-2.522760</td>\n      <td>-40.0752</td>\n      <td>174.1180</td>\n      <td>-0.000006</td>\n      <td>R&amp;D</td>\n      <td>hld</td>\n      <td>fire</td>\n      <td>dir</td>\n      <td>555</td>\n      <td>2024-04-07</td>\n      <td>2024-05-07</td>\n    </tr>\n    <tr>\n      <th>5</th>\n      <td>FFF_001</td>\n      <td>templatehead</td>\n      <td>0.400994</td>\n      <td>0.650936</td>\n      <td>0.834343</td>\n      <td>-28.4560</td>\n      <td>28.4740</td>\n      <td>-0.000007</td>\n      <td>R&amp;D</td>\n      <td>omt</td>\n      <td>smoke</td>\n      <td>omt</td>\n      <td>666</td>\n      <td>2024-11-11</td>\n      <td>2024-12-24</td>\n    </tr>\n  </tbody>\n</table>\n</div>"
     },
     "execution_count": 260,
     "metadata": {},
     "output_type": "execute_result"
    }
   ],
   "source": [
    "user_info = {}\n",
    "def redefine_user(str_data):\n",
    "    dict_data = eval(str_data)\n",
    "    user_id = str(dict_data[\"id\"])\n",
    "    user_name = dict_data['name']\n",
    "    user_info[user_id] = user_name\n",
    "    return user_id\n",
    "df_sg['user'] = df_sg['user'].apply(redefine_user)\n",
    "df_sg"
   ],
   "metadata": {
    "collapsed": false,
    "ExecuteTime": {
     "end_time": "2024-02-23T09:06:49.768576100Z",
     "start_time": "2024-02-23T09:06:49.666849400Z"
    }
   }
  },
  {
   "cell_type": "code",
   "execution_count": 261,
   "outputs": [
    {
     "data": {
      "text/plain": "{'111': 'simon', '444': 'mendy', '555': 'silva', '666': 'luka'}"
     },
     "execution_count": 261,
     "metadata": {},
     "output_type": "execute_result"
    }
   ],
   "source": [
    "user_info"
   ],
   "metadata": {
    "collapsed": false,
    "ExecuteTime": {
     "end_time": "2024-02-23T09:07:00.533199600Z",
     "start_time": "2024-02-23T09:07:00.498287800Z"
    }
   }
  },
  {
   "cell_type": "code",
   "execution_count": 21,
   "outputs": [
    {
     "data": {
      "text/plain": "'R&D'"
     },
     "execution_count": 21,
     "metadata": {},
     "output_type": "execute_result"
    }
   ],
   "source": [
    "test = df_sg.loc[(df_sg.shot_code == 'AAA_001') & (df_sg.task == 'electric')]\n",
    "test[\"project\"].values[0]"
   ],
   "metadata": {
    "collapsed": false,
    "ExecuteTime": {
     "end_time": "2024-02-24T06:16:16.507539500Z",
     "start_time": "2024-02-24T06:16:16.486532700Z"
    }
   }
  },
  {
   "cell_type": "code",
   "execution_count": 22,
   "outputs": [
    {
     "data": {
      "text/plain": "'C:\\\\Class'"
     },
     "execution_count": 22,
     "metadata": {},
     "output_type": "execute_result"
    }
   ],
   "source": [],
   "metadata": {
    "collapsed": false,
    "ExecuteTime": {
     "end_time": "2024-02-24T07:07:59.480198700Z",
     "start_time": "2024-02-24T07:07:59.430332800Z"
    }
   }
  }
 ],
 "metadata": {
  "kernelspec": {
   "display_name": "Python 3 (ipykernel)",
   "language": "python",
   "name": "python3"
  },
  "language_info": {
   "codemirror_mode": {
    "name": "ipython",
    "version": 3
   },
   "file_extension": ".py",
   "mimetype": "text/x-python",
   "name": "python",
   "nbconvert_exporter": "python",
   "pygments_lexer": "ipython3",
   "version": "3.9.18"
  }
 },
 "nbformat": 4,
 "nbformat_minor": 4
}
